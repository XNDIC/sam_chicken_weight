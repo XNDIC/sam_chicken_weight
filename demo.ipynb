{
 "cells": [
  {
   "cell_type": "code",
   "execution_count": 3,
   "id": "90c6f25e",
   "metadata": {},
   "outputs": [
    {
     "ename": "ModuleNotFoundError",
     "evalue": "No module named 'torch'",
     "output_type": "error",
     "traceback": [
      "\u001B[1;31m---------------------------------------------------------------------------\u001B[0m",
      "\u001B[1;31mModuleNotFoundError\u001B[0m                       Traceback (most recent call last)",
      "Cell \u001B[1;32mIn[3], line 1\u001B[0m\n\u001B[1;32m----> 1\u001B[0m \u001B[38;5;28;01mfrom\u001B[39;00m \u001B[38;5;21;01myolov7\u001B[39;00m\u001B[38;5;21;01m.\u001B[39;00m\u001B[38;5;21;01mapi_detect\u001B[39;00m \u001B[38;5;28;01mimport\u001B[39;00m API_Detect\n",
      "File \u001B[1;32mD:\\code\\sam_chicken_weight\\yolov7\\api_detect.py:6\u001B[0m\n\u001B[0;32m      3\u001B[0m \u001B[38;5;28;01mfrom\u001B[39;00m \u001B[38;5;21;01mpathlib\u001B[39;00m \u001B[38;5;28;01mimport\u001B[39;00m Path\n\u001B[0;32m      5\u001B[0m \u001B[38;5;28;01mimport\u001B[39;00m \u001B[38;5;21;01mcv2\u001B[39;00m\n\u001B[1;32m----> 6\u001B[0m \u001B[38;5;28;01mimport\u001B[39;00m \u001B[38;5;21;01mtorch\u001B[39;00m\n\u001B[0;32m      7\u001B[0m \u001B[38;5;28;01mimport\u001B[39;00m \u001B[38;5;21;01msys\u001B[39;00m\n\u001B[0;32m      8\u001B[0m \u001B[38;5;28;01mimport\u001B[39;00m \u001B[38;5;21;01mtorch\u001B[39;00m\u001B[38;5;21;01m.\u001B[39;00m\u001B[38;5;21;01mbackends\u001B[39;00m\u001B[38;5;21;01m.\u001B[39;00m\u001B[38;5;21;01mcudnn\u001B[39;00m \u001B[38;5;28;01mas\u001B[39;00m \u001B[38;5;21;01mcudnn\u001B[39;00m\n",
      "\u001B[1;31mModuleNotFoundError\u001B[0m: No module named 'torch'"
     ]
    }
   ],
   "source": [
    "from yolov7.api_detect import API_Detect"
   ]
  },
  {
   "cell_type": "code",
   "execution_count": 4,
   "id": "7d72015e",
   "metadata": {},
   "outputs": [
    {
     "ename": "ModuleNotFoundError",
     "evalue": "No module named 'cv2'",
     "output_type": "error",
     "traceback": [
      "\u001B[1;31m---------------------------------------------------------------------------\u001B[0m",
      "\u001B[1;31mModuleNotFoundError\u001B[0m                       Traceback (most recent call last)",
      "Cell \u001B[1;32mIn[4], line 1\u001B[0m\n\u001B[1;32m----> 1\u001B[0m \u001B[38;5;28;01mfrom\u001B[39;00m \u001B[38;5;21;01mapi_utils\u001B[39;00m\u001B[38;5;21;01m.\u001B[39;00m\u001B[38;5;21;01mutils_file\u001B[39;00m \u001B[38;5;28;01mimport\u001B[39;00m parse_cfg\n\u001B[0;32m      2\u001B[0m cfg \u001B[38;5;241m=\u001B[39m parse_cfg(\u001B[38;5;124m'\u001B[39m\u001B[38;5;124mcfg.ini\u001B[39m\u001B[38;5;124m'\u001B[39m)\n\u001B[0;32m      3\u001B[0m DZ_model \u001B[38;5;241m=\u001B[39m API_Detect(device\u001B[38;5;241m=\u001B[39m\u001B[38;5;124m'\u001B[39m\u001B[38;5;124m2\u001B[39m\u001B[38;5;124m'\u001B[39m, weights\u001B[38;5;241m=\u001B[39mcfg[\u001B[38;5;124m'\u001B[39m\u001B[38;5;124mDZ_model_detc\u001B[39m\u001B[38;5;124m'\u001B[39m])\n",
      "File \u001B[1;32mD:\\code\\sam_chicken_weight\\api_utils\\utils_file.py:4\u001B[0m\n\u001B[0;32m      2\u001B[0m \u001B[38;5;28;01mimport\u001B[39;00m \u001B[38;5;21;01mos\u001B[39;00m\n\u001B[0;32m      3\u001B[0m \u001B[38;5;28;01mimport\u001B[39;00m \u001B[38;5;21;01mnumpy\u001B[39;00m \u001B[38;5;28;01mas\u001B[39;00m \u001B[38;5;21;01mnp\u001B[39;00m\n\u001B[1;32m----> 4\u001B[0m \u001B[38;5;28;01mimport\u001B[39;00m \u001B[38;5;21;01mcv2\u001B[39;00m\n\u001B[0;32m      5\u001B[0m \u001B[38;5;28;01mimport\u001B[39;00m \u001B[38;5;21;01mpdb\u001B[39;00m\n\u001B[0;32m      6\u001B[0m \u001B[38;5;28;01mfrom\u001B[39;00m \u001B[38;5;21;01mPIL\u001B[39;00m \u001B[38;5;28;01mimport\u001B[39;00m Image, ImageDraw, ImageFont\n",
      "\u001B[1;31mModuleNotFoundError\u001B[0m: No module named 'cv2'"
     ]
    }
   ],
   "source": [
    "from api_utils.utils_file import parse_cfg\n",
    "cfg = parse_cfg('cfg.ini')\n",
    "DZ_model = API_Detect(device='2', weights=cfg['DZ_model_detc'])"
   ]
  },
  {
   "cell_type": "code",
   "execution_count": 5,
   "id": "1fd50909",
   "metadata": {},
   "outputs": [],
   "source": [
    "img_path = 'demo_imgs/3_CH251930825_20221102090002.jpg'"
   ]
  },
  {
   "cell_type": "code",
   "execution_count": 6,
   "id": "72645b48",
   "metadata": {},
   "outputs": [
    {
     "ename": "ModuleNotFoundError",
     "evalue": "No module named 'cv2'",
     "output_type": "error",
     "traceback": [
      "\u001B[1;31m---------------------------------------------------------------------------\u001B[0m",
      "\u001B[1;31mModuleNotFoundError\u001B[0m                       Traceback (most recent call last)",
      "Cell \u001B[1;32mIn[6], line 1\u001B[0m\n\u001B[1;32m----> 1\u001B[0m \u001B[38;5;28;01mimport\u001B[39;00m \u001B[38;5;21;01mcv2\u001B[39;00m\n\u001B[0;32m      2\u001B[0m \u001B[38;5;28;01mimport\u001B[39;00m \u001B[38;5;21;01mmath\u001B[39;00m\n\u001B[0;32m      3\u001B[0m \u001B[38;5;28;01mimport\u001B[39;00m \u001B[38;5;21;01mnumpy\u001B[39;00m \u001B[38;5;28;01mas\u001B[39;00m \u001B[38;5;21;01mnp\u001B[39;00m \n",
      "\u001B[1;31mModuleNotFoundError\u001B[0m: No module named 'cv2'"
     ]
    }
   ],
   "source": [
    "import cv2\n",
    "import math\n",
    "import numpy as np \n",
    "from matplotlib import pyplot as plt\n",
    "%matplotlib inline\n",
    "_, number, bbox_list = DZ_model.inference(img_path)  # bbox (x1,x2,y1,y2)\n",
    "img = cv2.imread(img_path)\n",
    "img_ = img.copy()\n",
    "\n",
    "for bbox in bbox_list:\n",
    "    img_ = cv2.rectangle(img_, (int(bbox[0]), int(bbox[1])), (int(bbox[2]), int(bbox[3])),(255,0,0), 1)\n",
    "plt.imshow(img_)"
   ]
  },
  {
   "cell_type": "code",
   "execution_count": null,
   "id": "0714a652",
   "metadata": {},
   "outputs": [],
   "source": [
    "# 计算box的中心点和labels\n",
    "def bbox2sam_points(bbox_list,img_shape):\n",
    "    points,labels = [],[]\n",
    "    H,W,_ = img.shape\n",
    "    cx,cy = W//2,H//2\n",
    "    max_distancs = float('inf')\n",
    "    for bbox in bbox_list:\n",
    "        x1,y1,x2,y2 = bbox\n",
    "        x_c,y_c = int((x1+x2)/2),int((y1+y2)/2)\n",
    "        #  保证在圆环内\n",
    "        distance = math.sqrt((x_c - cx)**2 + (y_c - cy)**2)\n",
    "        if distance>H/2:\n",
    "            continue\n",
    "        \n",
    "        # 选最近的鸡\n",
    "        if distance<max_distancs:\n",
    "            max_distancs = distance\n",
    "    \n",
    "            points = [(x_c,y_c),(x1,x2),(y1,y2)]\n",
    "            labels = [1,0,0]\n",
    "            best_c = [x_c,y_c]\n",
    "            #points = [(x_c,y_c)]\n",
    "            #labels = [1]\n",
    "\n",
    "    return points,labels,best_c"
   ]
  },
  {
   "cell_type": "code",
   "execution_count": null,
   "id": "d0671df6",
   "metadata": {},
   "outputs": [],
   "source": [
    "points,labels,bbox_c = bbox2sam_points(bbox_list,img.shape)"
   ]
  },
  {
   "cell_type": "code",
   "execution_count": null,
   "id": "91cde0d3",
   "metadata": {},
   "outputs": [],
   "source": [
    "#from efficientvit.sam_model_zoo import create_sam_model\n",
    "import sys\n",
    "sys.path.append('D:\\\\code\\\\sam_chicken_weight\\\\efficientvit-master')\n",
    "sys.path.append('D:\\\\code\\\\sam_chicken_weight\\\\efficientvit-master\\\\segment-anything')\n",
    "from efficientvit.sam_model_zoo import create_sam_model\n",
    "from efficientvit.models.efficientvit.sam import EfficientViTSamPredictor\n",
    "from efficientvit.models.efficientvit.sam import EfficientViTSamAutomaticMaskGenerator\n",
    "efficientvit_sam = create_sam_model(name=\"xl1\", weight_url=\"efficientvit-master/assets/checkpoints/sam/xl1.pt\")\n",
    "efficientvit_sam = efficientvit_sam.cuda().eval()\n",
    "efficientvit_sam_predictor = EfficientViTSamPredictor(efficientvit_sam)\n",
    "efficientvit_mask_generator = EfficientViTSamAutomaticMaskGenerator(efficientvit_sam)\n"
   ]
  },
  {
   "cell_type": "code",
   "execution_count": null,
   "id": "06c1ecc8",
   "metadata": {},
   "outputs": [],
   "source": [
    "def predict_mask_from_point(\n",
    "        predictor: EfficientViTSamPredictor, point_coords: np.ndarray, point_labels: np.ndarray\n",
    ") -> np.ndarray:\n",
    "    masks, iou_predictions, _ = predictor.predict(\n",
    "        point_coords=point_coords,\n",
    "        point_labels=point_labels,\n",
    "        box=None,\n",
    "        multimask_output=True,\n",
    "    )\n",
    "\n",
    "    mask = masks[iou_predictions.argmax()]\n",
    "    return mask\n",
    "\n",
    "def run_point(efficientvit_sam, image_np, points, labels):\n",
    "    predictor = EfficientViTSamPredictor(efficientvit_sam)\n",
    "    predictor.set_image(image_np)\n",
    "\n",
    "    point_labels = np.array(labels)\n",
    "    point_coords = np.stack(np.array(points), axis=0)\n",
    "\n",
    "    pre_mask = predict_mask_from_point(predictor, point_coords, point_labels)\n",
    "    return pre_mask\n"
   ]
  },
  {
   "cell_type": "code",
   "execution_count": null,
   "id": "2b23273f",
   "metadata": {},
   "outputs": [],
   "source": [
    "import random\n",
    "\n",
    "chicken_mask = run_point(efficientvit_sam, img, points, labels)\n",
    "chicken_mask = np.array(chicken_mask).astype(np.uint8)\n",
    "\n",
    "chicken_heatmapshow = np.repeat(np.expand_dims(chicken_mask*255, axis=-1), 3, axis=-1)\n",
    "add_img = cv2.addWeighted(img, 0.3, chicken_heatmapshow, 0.7, 0)\n",
    "\n",
    "plt.imshow(add_img)"
   ]
  },
  {
   "cell_type": "code",
   "execution_count": null,
   "id": "7ff2cf9f",
   "metadata": {},
   "outputs": [],
   "source": [
    "from api_utils.utils_file import  insert_time_device,insert_weight_classical_result\n",
    "img = insert_time_device(img, 'CH251930808', str('20221021090003'))\n",
    "def mask2polygon(mask):\n",
    "    contours, _ = cv2.findContours(mask, cv2.RETR_EXTERNAL, cv2.CHAIN_APPROX_NONE)  # \n",
    "    print(len(contours)) \n",
    "    if contours:\n",
    "        largest_contour = max(contours, key=cv2.contourArea)\n",
    "        #print(largest_contour)\n",
    "    return largest_contour\n",
    "\n",
    "print(chicken_mask.shape,img.shape)\n",
    "chicken_contour =  mask2polygon(chicken_mask)\n",
    "cv2.drawContours(img, chicken_contour, -1, (0, 255, 0), 3)\n",
    "print(img.shape)\n",
    "cheng_weight =155\n",
    "species = '1456'\n",
    "img,_ = insert_weight_classical_result(img, bbox_c, cheng_weight, \"黄鸡\")\n",
    "img = cv2.resize(img, (960, 540))\n",
    "plt.imshow(img)"
   ]
  },
  {
   "cell_type": "markdown",
   "id": "347e528b",
   "metadata": {},
   "source": [
    "b"
   ]
  },
  {
   "cell_type": "markdown",
   "id": "d0c7cce5",
   "metadata": {},
   "source": []
  },
  {
   "cell_type": "markdown",
   "id": "8e9d1801",
   "metadata": {},
   "source": []
  }
 ],
 "metadata": {
  "kernelspec": {
   "name": "pytorch_gpu_jupyter",
   "language": "python",
   "display_name": "pytorch_gpu_jupyter"
  },
  "language_info": {
   "codemirror_mode": {
    "name": "ipython",
    "version": 3
   },
   "file_extension": ".py",
   "mimetype": "text/x-python",
   "name": "python",
   "nbconvert_exporter": "python",
   "pygments_lexer": "ipython3",
   "version": "3.10.11"
  }
 },
 "nbformat": 4,
 "nbformat_minor": 5
}
